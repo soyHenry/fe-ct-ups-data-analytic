{
 "cells": [
  {
   "cell_type": "code",
   "execution_count": null,
   "metadata": {},
   "outputs": [],
   "source": [
    "import numpy as np # importando numpy\n",
    "from scipy import stats # importando scipy.stats\n",
    "import pandas as pd\n",
    "import matplotlib.pyplot as plt # importando matplotlib\n",
    "import seaborn as sns # importando seaborn"
   ]
  },
  {
   "cell_type": "code",
   "execution_count": null,
   "metadata": {},
   "outputs": [],
   "source": [
    "notas = list(range(1,11,2)) * 3\n",
    "notas"
   ]
  },
  {
   "cell_type": "code",
   "execution_count": null,
   "metadata": {},
   "outputs": [],
   "source": [
    "list(set(notas))"
   ]
  },
  {
   "cell_type": "code",
   "execution_count": null,
   "metadata": {},
   "outputs": [],
   "source": [
    "plt.hist(x=notas, bins=list(range(1,11)), color='#F2AB6D', rwidth=0.85)\n",
    "len(notas)"
   ]
  },
  {
   "cell_type": "code",
   "execution_count": null,
   "metadata": {},
   "outputs": [],
   "source": [
    "muestra = np.array( \n",
    "       [[1.85, 1.80, 1.8 , 1.8],\n",
    "       [1.73,  1.7, 1.75, 1.76],\n",
    "       [ 1.65, 1.69,  1.67 ,  1.6],\n",
    "       [1.54,  1.57, 1.58, 1.59],\n",
    "       [ 1.4 , 1.42,  1.45, 1.48]]) \n",
    "print(muestra)"
   ]
  },
  {
   "cell_type": "code",
   "execution_count": null,
   "metadata": {},
   "outputs": [],
   "source": [
    "type(muestra)"
   ]
  },
  {
   "cell_type": "code",
   "execution_count": null,
   "metadata": {},
   "outputs": [],
   "source": [
    "# Media\n",
    "print(muestra.mean()) #método\n",
    "print(np.mean(muestra)) #función de numpy\n",
    "#Hecho a mano\n",
    "def obtenerPromedio(arreglo):\n",
    "   suma, cantidad_elementos = 0, 0\n",
    "   for fila in muestra:\n",
    "      for num in fila:\n",
    "         suma += num\n",
    "         cantidad_elementos += 1\n",
    "   promedio = suma / cantidad_elementos\n",
    "   return promedio\n",
    "\n",
    "print(obtenerPromedio(muestra))"
   ]
  },
  {
   "cell_type": "code",
   "execution_count": null,
   "metadata": {},
   "outputs": [],
   "source": [
    "# Mediana\n",
    "muestra = np.sort(muestra)\n",
    "print(muestra)\n",
    "print(np.median(muestra))"
   ]
  },
  {
   "cell_type": "code",
   "execution_count": null,
   "metadata": {},
   "outputs": [],
   "source": [
    "notas.sort()\n",
    "np.median(notas)"
   ]
  },
  {
   "cell_type": "code",
   "execution_count": null,
   "metadata": {},
   "outputs": [],
   "source": [
    "stats.mode(muestra.reshape(-1))"
   ]
  },
  {
   "cell_type": "code",
   "execution_count": null,
   "metadata": {},
   "outputs": [],
   "source": [
    "# Moda\n",
    "print(stats.mode(muestra.flatten()))\n",
    "\n",
    "def obtenerModa(arreglo):\n",
    "   numeros = [valor for fila in arreglo for valor in fila]\n",
    "   unicos = list(set(numeros))\n",
    "   moda = 0\n",
    "   maximo = 0\n",
    "   for indice, numero in enumerate(unicos):\n",
    "      conteo = numeros.count(numero)\n",
    "      if conteo > maximo:\n",
    "         maximo = conteo\n",
    "         moda = unicos[indice]\n",
    "   return moda\n",
    "\n",
    "obtenerModa(muestra)"
   ]
  },
  {
   "cell_type": "code",
   "execution_count": null,
   "metadata": {},
   "outputs": [],
   "source": [
    "# Varianza\n",
    "print(np.var(muestra))"
   ]
  },
  {
   "cell_type": "code",
   "execution_count": null,
   "metadata": {},
   "outputs": [],
   "source": [
    "# Desvío Estándar\n",
    "print(np.std(muestra))"
   ]
  },
  {
   "cell_type": "code",
   "execution_count": null,
   "metadata": {},
   "outputs": [],
   "source": [
    "print(np.std(muestra)/np.mean(muestra)*100)"
   ]
  },
  {
   "cell_type": "code",
   "execution_count": null,
   "metadata": {},
   "outputs": [],
   "source": [
    "# Dibujamos el histograma. Notamos que no tiene distribución normal.\n",
    "muestra = [valor for fila in muestra for valor in fila] #muestra.flatten().tolist()\n",
    "intervalos = 5\n",
    "print(muestra)\n"
   ]
  },
  {
   "cell_type": "code",
   "execution_count": null,
   "metadata": {},
   "outputs": [],
   "source": [
    "intervalos = 5"
   ]
  },
  {
   "cell_type": "code",
   "execution_count": null,
   "metadata": {},
   "outputs": [],
   "source": [
    "type(np.histogram(muestra, bins=intervalos))"
   ]
  },
  {
   "cell_type": "code",
   "execution_count": null,
   "metadata": {},
   "outputs": [],
   "source": [
    "a, b = (5,10)\n",
    "print(a,b)"
   ]
  },
  {
   "cell_type": "code",
   "execution_count": null,
   "metadata": {},
   "outputs": [],
   "source": [
    "np.histogram(muestra, bins=intervalos)"
   ]
  },
  {
   "cell_type": "code",
   "execution_count": null,
   "metadata": {},
   "outputs": [],
   "source": [
    "#print(type(muestra))\n",
    "frecuencias, extremos = np.histogram(muestra, bins=intervalos)\n",
    "print(frecuencias, extremos)"
   ]
  },
  {
   "cell_type": "code",
   "execution_count": null,
   "metadata": {},
   "outputs": [],
   "source": [
    "plt.hist(x = muestra, bins = intervalos, color='#F2AB6D', rwidth= 0.95)\n",
    "plt.title('Histograma de altura')\n",
    "plt.xlabel('Edades')\n",
    "plt.ylabel('Frecuencia')\n",
    "plt.show()"
   ]
  },
  {
   "cell_type": "code",
   "execution_count": null,
   "metadata": {},
   "outputs": [],
   "source": [
    "muestra = np.array( [[1.85, 1.80, 1.8 , 1.8],\n",
    "       [1.73,  1.7, 1.75, 1.76],\n",
    "       [ 1.65, 1.69,  1.67 ,  1.6],\n",
    "       [1.54,  1.57, 1.58, 1.59],\n",
    "       [ 1.4 , 1.42,  1.45, 1.48]]) \n",
    "\n",
    "dataframe = pd.DataFrame(muestra, index=range(1,6), \n",
    "                        columns=['col1','col2','col3','col4'])\n",
    "dataframe.describe()\n",
    "#dataframe"
   ]
  },
  {
   "cell_type": "code",
   "execution_count": null,
   "metadata": {},
   "outputs": [],
   "source": [
    "grupos = np.array( [[10.5, 17],\n",
    "                    [6.8,18], \n",
    "                    [20.7,21], \n",
    "                    [18.2,16], \n",
    "                    [8.6,16], \n",
    "                    [25.8,21], \n",
    "                    [22.2,16],\n",
    "                    [5.9,14], \n",
    "                    [7.6,18], \n",
    "                    [11.8,18]])\n",
    "\n",
    "\n",
    "grupos_df = pd.DataFrame(grupos, index=range(1,11),columns=['Ingreso en miles','Años de estudio'])\n",
    "print(grupos_df)\n",
    "print(grupos_df.describe())"
   ]
  },
  {
   "cell_type": "code",
   "execution_count": null,
   "metadata": {},
   "outputs": [],
   "source": [
    "\n",
    "plt.hist(x=grupos_df[['Ingreso en miles']], bins=6, color='#F2AB6D', rwidth=0.95)\n",
    "plt.title('Histograma')\n",
    "plt.xlabel('Ingreso en miles')\n",
    "plt.ylabel('Frecuencia')\n",
    "plt.show() "
   ]
  },
  {
   "cell_type": "code",
   "execution_count": null,
   "metadata": {},
   "outputs": [],
   "source": [
    "plt.hist(x=grupos_df[['Años de estudio']], bins=6, color='#F2AB6D', rwidth=0.95)\n",
    "plt.title('Histograma de Años de estudio')\n",
    "plt.xlabel('Años de estudio')\n",
    "plt.ylabel('Frecuencia')\n",
    "plt.show() "
   ]
  },
  {
   "cell_type": "code",
   "execution_count": null,
   "metadata": {},
   "outputs": [],
   "source": [
    "print(grupos_df[['Ingreso en miles']].mean())"
   ]
  },
  {
   "cell_type": "code",
   "execution_count": null,
   "metadata": {},
   "outputs": [],
   "source": [
    "round(np.mean(grupos[:, 0]),2)\n",
    "#print(np.mean(grupos))"
   ]
  },
  {
   "cell_type": "code",
   "execution_count": null,
   "metadata": {},
   "outputs": [],
   "source": [
    "grupos_df.loc[11]"
   ]
  },
  {
   "cell_type": "code",
   "execution_count": null,
   "metadata": {},
   "outputs": [],
   "source": [
    "grupos_df.loc[11] = [50, 35]\n",
    "#print(grupos_df)\n",
    "\n",
    "print(grupos_df.describe())\n",
    "\n",
    "grupos_df.loc[12] = [ 120, 30 ]\n",
    "\n",
    "\n",
    "print(grupos_df.describe())"
   ]
  },
  {
   "cell_type": "code",
   "execution_count": null,
   "metadata": {},
   "outputs": [],
   "source": [
    "diferencia_nom = grupos_df[['Ingreso en miles']].mean() - round(np.mean(grupos[:, 0]),2)\n",
    "diferencia_porc = diferencia_nom/np.mean(grupos[1])\n",
    "print(diferencia_nom)\n",
    "print(diferencia_porc)\n",
    "\n",
    "# El resultado indica que la media se ve afectada por los valores extremos"
   ]
  },
  {
   "cell_type": "code",
   "execution_count": null,
   "metadata": {},
   "outputs": [],
   "source": [
    "grupos_df[['Ingreso en miles']].median(), np.median(grupos[:, 0])"
   ]
  },
  {
   "cell_type": "code",
   "execution_count": null,
   "metadata": {},
   "outputs": [],
   "source": [
    "grupos_df[['Ingreso en miles']]"
   ]
  },
  {
   "cell_type": "code",
   "execution_count": null,
   "metadata": {},
   "outputs": [],
   "source": [
    "np.sqrt(grupos_df[['Ingreso en miles']].var()), np.sqrt(np.var(grupos[:, 0]))"
   ]
  },
  {
   "cell_type": "code",
   "execution_count": null,
   "metadata": {},
   "outputs": [],
   "source": [
    "plt.scatter(x = grupos_df[['Años de estudio']], y = grupos_df[['Ingreso en miles']])"
   ]
  },
  {
   "cell_type": "code",
   "execution_count": null,
   "metadata": {},
   "outputs": [],
   "source": [
    "plt.scatter(x = grupos[:,0], y = grupos[:,1])"
   ]
  },
  {
   "cell_type": "code",
   "execution_count": null,
   "metadata": {},
   "outputs": [],
   "source": []
  }
 ],
 "metadata": {
  "kernelspec": {
   "display_name": "Python 3.9.7 64-bit",
   "language": "python",
   "name": "python3"
  },
  "language_info": {
   "codemirror_mode": {
    "name": "ipython",
    "version": 3
   },
   "file_extension": ".py",
   "mimetype": "text/x-python",
   "name": "python",
   "nbconvert_exporter": "python",
   "pygments_lexer": "ipython3",
   "version": "3.9.7"
  },
  "orig_nbformat": 4,
  "vscode": {
   "interpreter": {
    "hash": "11938c6bc6919ae2720b4d5011047913343b08a43b18698fd82dedb0d4417594"
   }
  }
 },
 "nbformat": 4,
 "nbformat_minor": 2
}
