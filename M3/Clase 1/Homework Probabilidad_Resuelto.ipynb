{
 "cells": [
  {
   "cell_type": "code",
   "execution_count": 4,
   "metadata": {},
   "outputs": [
    {
     "name": "stdout",
     "output_type": "stream",
     "text": [
      "1024\n"
     ]
    }
   ],
   "source": [
    "resultados_moneda = pow(2,10)\n",
    "print(resultados_moneda)"
   ]
  },
  {
   "cell_type": "code",
   "execution_count": 6,
   "metadata": {},
   "outputs": [
    {
     "name": "stdout",
     "output_type": "stream",
     "text": [
      "120.0\n"
     ]
    }
   ],
   "source": [
    "from math import factorial\n",
    "control_aeropuerto = factorial(10) / (factorial(3)*factorial(10-3))\n",
    "print(control_aeropuerto)"
   ]
  },
  {
   "cell_type": "code",
   "execution_count": 8,
   "metadata": {},
   "outputs": [
    {
     "name": "stdout",
     "output_type": "stream",
     "text": [
      "0.7900552486187845\n",
      "La probailidad de usar cinturon en el norte es: 0.13627992633517497 , noreste: 0.14917127071823205 , sur: 0.27255985267034993  y en la región centro: 0.23204419889502761 .\n"
     ]
    }
   ],
   "source": [
    "# a) Es posible inferir que se utlizo el método fecuentista.\n",
    "# b) Cuadro en imagen adjunta a la solución.\n",
    "\n",
    "c = 858/1086\n",
    "print(c)\n",
    "\n",
    "# d) La probabilidad actual es mayor, por lo que el director estaría satisfecho.\n",
    "\n",
    "# e)\n",
    "\n",
    "norte = 148/1086 \n",
    "noreste = 162/1086\n",
    "sur = 296/1086 \n",
    "centro = 252/1086\n",
    "\n",
    "print(\"La probailidad de usar cinturon en el norte es:\",norte,\", noreste:\",noreste,\", sur:\",sur,\" y en la región centro:\",centro,\".\")"
   ]
  },
  {
   "cell_type": "code",
   "execution_count": 1,
   "metadata": {},
   "outputs": [],
   "source": [
    "def probabilidadNaipes1(categoria):\n",
    "    cartas = 52\n",
    "    cartasColor=26\n",
    "    cartasCategoria=13\n",
    "    if(categoria=='roja' or categoria=='negra'):\n",
    "        return cartasColor/cartas\n",
    "    elif(categoria in ('pica','trebol','corazon','diamante') ):\n",
    "        return cartasCategoria/cartas"
   ]
  },
  {
   "cell_type": "code",
   "execution_count": 2,
   "metadata": {},
   "outputs": [
    {
     "name": "stdout",
     "output_type": "stream",
     "text": [
      "0.25\n"
     ]
    }
   ],
   "source": [
    "print(probabilidadNaipes1('diamante'))"
   ]
  },
  {
   "cell_type": "code",
   "execution_count": 3,
   "metadata": {},
   "outputs": [
    {
     "name": "stdout",
     "output_type": "stream",
     "text": [
      "0.5\n"
     ]
    }
   ],
   "source": [
    "print(probabilidadNaipes1('negra'))"
   ]
  },
  {
   "cell_type": "code",
   "execution_count": null,
   "metadata": {},
   "outputs": [],
   "source": [
    "\n",
    "#2. Crear una función que cálcule la probabilidad de que salga un 7 o un 8 \n",
    "# y además el usuario pueda establecer el color.\n",
    "def probabilidadNaipes2(numero,categoria):\n",
    "    cartas = 52\n",
    "    cartasColor=26\n",
    "    if(numero=='' and (categoria=='negra' or categoria=='roja')):\n",
    "        return cartasColor/cartas\n",
    "    elif(numero!='' and (categoria=='negra' or categoria=='roja') ):\n",
    "        return cartasColor/cartas*2/cartas\n",
    "    elif(numero!='' and categoria==''):\n",
    "        return 1/cartas\n"
   ]
  },
  {
   "cell_type": "code",
   "execution_count": 7,
   "metadata": {},
   "outputs": [],
   "source": [
    "def probabilidadNaipes3(numero, color):\n",
    "    '''\n",
    "    numero = lista de numeros (1-13)\n",
    "    color = rojo o negro\n",
    "    '''\n",
    "    cartas = 52\n",
    "    cartasColor = 26\n",
    "    cartasNumero = 4\n",
    "    probColor = cartasColor / cartas\n",
    "    probNumero = cartasNumero / cartas\n",
    "    probTotal = 0\n",
    "    for n in numero:\n",
    "        probTotal = probTotal + (probColor * probNumero)\n",
    "    return round(probTotal * 100, 2)\n"
   ]
  },
  {
   "cell_type": "code",
   "execution_count": 10,
   "metadata": {},
   "outputs": [
    {
     "data": {
      "text/plain": [
       "50.0"
      ]
     },
     "execution_count": 10,
     "metadata": {},
     "output_type": "execute_result"
    }
   ],
   "source": [
    "probabilidadNaipes3(list(range(1,14)),'rojo')"
   ]
  },
  {
   "cell_type": "code",
   "execution_count": 11,
   "metadata": {},
   "outputs": [
    {
     "data": {
      "text/plain": [
       "7.69"
      ]
     },
     "execution_count": 11,
     "metadata": {},
     "output_type": "execute_result"
    }
   ],
   "source": [
    "probabilidadNaipes3([7,8],'rojo')"
   ]
  },
  {
   "cell_type": "code",
   "execution_count": null,
   "metadata": {},
   "outputs": [],
   "source": [
    "print(probabilidadNaipes2(1,'roja'))"
   ]
  },
  {
   "cell_type": "code",
   "execution_count": 1,
   "metadata": {},
   "outputs": [
    {
     "name": "stdout",
     "output_type": "stream",
     "text": [
      "Probabilidad de que compartan una misma fecha de cumpleaños es 0.12\n"
     ]
    }
   ],
   "source": [
    "prob = 1.0\n",
    "asistentes = 10\n",
    "\n",
    "for i in range(asistentes):\n",
    "    prob = prob * (365-i)/365\n",
    "\n",
    "print(\"Probabilidad de que compartan una misma fecha de cumpleaños es {0:.2f}\"\n",
    "      .format(1 - prob))"
   ]
  }
 ],
 "metadata": {
  "interpreter": {
   "hash": "1c78c748587efab2fabdf837f7fee0ed6bd03c777fb4851686550965991e76c2"
  },
  "kernelspec": {
   "display_name": "Python 3.10.0 64-bit",
   "language": "python",
   "name": "python3"
  },
  "language_info": {
   "codemirror_mode": {
    "name": "ipython",
    "version": 3
   },
   "file_extension": ".py",
   "mimetype": "text/x-python",
   "name": "python",
   "nbconvert_exporter": "python",
   "pygments_lexer": "ipython3",
   "version": "3.10.0"
  },
  "orig_nbformat": 4
 },
 "nbformat": 4,
 "nbformat_minor": 2
}
